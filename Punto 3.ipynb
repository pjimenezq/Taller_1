{
 "cells": [
  {
   "cell_type": "markdown",
   "metadata": {},
   "source": [
    "# Punto 3\n",
    "**Problema planteado**\n",
    "\n",
    "Realice un programa que lea un número enteros y determine si es par o impar."
   ]
  },
  {
   "cell_type": "markdown",
   "metadata": {},
   "source": [
    "**Solución**"
   ]
  },
  {
   "cell_type": "markdown",
   "metadata": {},
   "source": [
    "1. Mostrar cuál es el propósito que cumple el programa."
   ]
  },
  {
   "cell_type": "code",
   "execution_count": 1,
   "metadata": {},
   "outputs": [
    {
     "name": "stdout",
     "output_type": "stream",
     "text": [
      "Este programa lee un número entero y determina si es par o impar.\n"
     ]
    }
   ],
   "source": [
    "print(\"Este programa lee un número entero y determina si es par o impar.\")"
   ]
  },
  {
   "cell_type": "markdown",
   "metadata": {},
   "source": [
    "2. Declarar variables\n",
    "    * Se declara una variable, que corresponde al número entero que lee el programa.\n",
    "    * Se establece el nombre de la variable utilizando Camelcase.\n",
    "    * Se especifica que la variable es de tipo int, dado a que el programa requiere de un número entero."
   ]
  },
  {
   "cell_type": "code",
   "execution_count": 2,
   "metadata": {},
   "outputs": [],
   "source": [
    "numeroEntero:int"
   ]
  },
  {
   "cell_type": "markdown",
   "metadata": {},
   "source": [
    "3. Inicializar variable\n",
    "    * Se utiliza la función input() para que el usuario pueda ingresar el número entero que desee al programa"
   ]
  },
  {
   "cell_type": "code",
   "execution_count": 5,
   "metadata": {},
   "outputs": [],
   "source": [
    "numeroEntero=int(input(\"Inserte un número entero \"))"
   ]
  },
  {
   "cell_type": "markdown",
   "metadata": {},
   "source": [
    "4. Estructura condicional if-else\n",
    "    * Con el operador aritmético % y el operador lógico == se establece la condición de que si el modulo entre el número entero ingresado y el número 2 es igual a 0, entonces el número ingresado al programa es par. Sí la condición se cumple, entonces se imprime la frase \"El número insertado es par\".\n",
    "    * Con else se establece que cuando la anterior condición no se cumple, el número ingresado al programa es impar. Por ende, se imprime la frase \"El número insertado es impar\"."
   ]
  },
  {
   "cell_type": "code",
   "execution_count": 6,
   "metadata": {},
   "outputs": [
    {
     "name": "stdout",
     "output_type": "stream",
     "text": [
      "El número insertado es impar\n"
     ]
    }
   ],
   "source": [
    "if numeroEntero%2==0:\n",
    "    print(\"El número insertado es par\")\n",
    "else:\n",
    "    print(\"El número insertado es impar\")"
   ]
  }
 ],
 "metadata": {
  "kernelspec": {
   "display_name": "Python 3",
   "language": "python",
   "name": "python3"
  },
  "language_info": {
   "codemirror_mode": {
    "name": "ipython",
    "version": 3
   },
   "file_extension": ".py",
   "mimetype": "text/x-python",
   "name": "python",
   "nbconvert_exporter": "python",
   "pygments_lexer": "ipython3",
   "version": "3.11.5"
  },
  "orig_nbformat": 4
 },
 "nbformat": 4,
 "nbformat_minor": 2
}
