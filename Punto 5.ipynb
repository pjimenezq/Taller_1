{
 "cells": [
  {
   "cell_type": "markdown",
   "metadata": {},
   "source": [
    " 1. Se solicita al usuario que ingrese el primer número y lo almacena en la variable num1"
   ]
  },
  {
   "cell_type": "code",
   "execution_count": 1,
   "metadata": {},
   "outputs": [],
   "source": [
    "num1 = float (input(\"ingrese el primer número: \"))\n",
    "\n"
   ]
  },
  {
   "cell_type": "markdown",
   "metadata": {},
   "source": [
    "2. Se solicita al usuario que ingrese el segundo número y lo almacena en la variable num2"
   ]
  },
  {
   "cell_type": "code",
   "execution_count": 2,
   "metadata": {},
   "outputs": [],
   "source": [
    "num2 = float (input(\"ingrese el segundo número: \"))\n"
   ]
  },
  {
   "cell_type": "markdown",
   "metadata": {},
   "source": [
    "3. Se solicita al usuario que ingrese el tercer número y lo almacena en la variable num3"
   ]
  },
  {
   "cell_type": "code",
   "execution_count": 3,
   "metadata": {},
   "outputs": [],
   "source": [
    "num3 = float (input(\"ingrese el tercer número: \"))"
   ]
  },
  {
   "cell_type": "markdown",
   "metadata": {},
   "source": [
    "4. Se calcula la suma de num1 y num2 y almacena el resultado en la variable suma"
   ]
  },
  {
   "cell_type": "code",
   "execution_count": 4,
   "metadata": {},
   "outputs": [],
   "source": [
    "suma = num1 + num2"
   ]
  },
  {
   "cell_type": "markdown",
   "metadata": {},
   "source": [
    "Si la suma es mayor que num3, se ejecuta la primera rama del condicional y se imprime el mensaje \"la suma es mayor que el tercer número\"."
   ]
  },
  {
   "cell_type": "markdown",
   "metadata": {},
   "source": [
    "Si la suma es menor que num3, se ejecuta la segunda rama del condicional y se imprime el mensaje \"la suma es menor que el tercer número\"."
   ]
  },
  {
   "cell_type": "markdown",
   "metadata": {},
   "source": [
    "Si la suma es igual a num3, se ejecuta la tercera rama del condicional y se imprime el mensaje \"la suma es igual al tercer número""
   ]
  },
  {
   "cell_type": "code",
   "execution_count": 5,
   "metadata": {},
   "outputs": [
    {
     "name": "stdout",
     "output_type": "stream",
     "text": [
      "la suma es igual al tercer numero\n"
     ]
    }
   ],
   "source": [
    "if suma > num3:\n",
    "   print (\"la suma es mayor que el tercer numero\")\n",
    "elif suma < num3:\n",
    "   print (\"la suma es menor que el tercer numero\")\n",
    "elif suma == num3:\n",
    "   print (\"la suma es igual al tercer numero\")"
   ]
  }
 ],
 "metadata": {
  "kernelspec": {
   "display_name": "Python 3",
   "language": "python",
   "name": "python3"
  },
  "language_info": {
   "codemirror_mode": {
    "name": "ipython",
    "version": 3
   },
   "file_extension": ".py",
   "mimetype": "text/x-python",
   "name": "python",
   "nbconvert_exporter": "python",
   "pygments_lexer": "ipython3",
   "version": "3.11.5"
  },
  "orig_nbformat": 4
 },
 "nbformat": 4,
 "nbformat_minor": 2
}
