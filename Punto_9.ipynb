{
  "cells": [
    {
      "cell_type": "markdown",
      "metadata": {
        "id": "view-in-github",
        "colab_type": "text"
      },
      "source": [
        "<a href=\"https://colab.research.google.com/github/pjimenezq/Taller_1/blob/main/Punto_9.ipynb\" target=\"_parent\"><img src=\"https://colab.research.google.com/assets/colab-badge.svg\" alt=\"Open In Colab\"/></a>"
      ]
    },
    {
      "cell_type": "markdown",
      "metadata": {
        "id": "XTYj8QnYPlub"
      },
      "source": [
        "9. #### Escriba un programa que reciba el nombre en minúsculas de un país de America y retorne la ciudad capital, si el país no pertenece al continente debe arrojar país no identificado.\n",
        "\n",
        "La solución del ejercicio es el siguiente:\n",
        "1. Lo primero que se tuvo en cuenta a la hora de resolver este problema fue crear una pregunta para que la persona que utilizara este código pueda orientarse.\n",
        "2. Declaramos la variable que en este caso será 'p' como un string.\n",
        "3. La inicialización de la variable será pedirle a la persona que este utilizando el programa que ingrese un pais con unas condiciones determinadas.\n",
        "4. Empezamos a hacer el uso del If, elif y else de la siguiente manera.\n",
        "    * Se pone la primera condición, que será de acuerdo a si en el pais que se ingresó se utilizan solo caracteres de letras minusculas, si es así da paso a la otra condición que llamaremos c2. Si por algún motivo se puso algún pais en caracteres de letras mayúsculas entonces saldrá el mensaje: \"p está en mayuscula, acuerdate que tienes que ingresas caracteres en minuscula\"\n",
        "    * Si  cumplimos la primera condición pasaremos a c2, acá se ve if, else y elif. Se puso una condición de cualquier país de América que se introduzca dará su capital, a través de condiciones a partir de if y elif; si se introduce un país que no es de América o alguna palabra que no tiene nada que ver saldrá entonces el siguiente mensaje: \"p no es parte del continente americano\".\n",
        "    \n",
        "Y con esto se terminaría la creación de la solución para el problema planteado"
      ]
    },
    {
      "cell_type": "code",
      "execution_count": null,
      "metadata": {
        "id": "FiDhKa0DPlui",
        "outputId": "d2d25a2a-ca5e-47de-ed6e-7d2eae717470"
      },
      "outputs": [
        {
          "name": "stdout",
          "output_type": "stream",
          "text": [
            "¿Este país es del continente americano?\n"
          ]
        },
        {
          "name": "stdout",
          "output_type": "stream",
          "text": [
            "pais no identificado\n"
          ]
        }
      ],
      "source": [
        "#Ponemos pregunta orientadora del programa\n",
        "print(\"¿Este país es del continente americano?\")\n",
        "#Declaramos variables\n",
        "p : str\n",
        "#Inicializamos variables\n",
        "p = input(\"Ingrese un pais de América en minuscula: \")\n",
        "#Condicionamos\n",
        "if p.islower():\n",
        "    if p == \"estados unidos\":\n",
        "        print(\"la capital de\", p, \"es Washington D.C\")\n",
        "    elif p == \"antigua y barbuda\":\n",
        "        print(\"la capital de\", p, \"es St.John's\")\n",
        "    elif p == \"bahamas\":\n",
        "        print(\"la capital de\", p, \"es Nassau\")\n",
        "    elif p == \"barbados\":\n",
        "        print(\"la capital de\", p, \"Bridgetown\")\n",
        "    elif p == \"canada\" or p == \"canadá\":\n",
        "        print(\"la capital de\", p, \"es Ottawa\")\n",
        "    elif p == \"cuba\":\n",
        "        print(\"la capital de\", p, \"es La Habana\")\n",
        "    elif p == \"dominica\":\n",
        "        print(\"la capital de\", p, \"es Roseau\")\n",
        "    elif p == \"republica dominicana\" or p == \"república dominicana\":\n",
        "        print(\"la capital de\", p, \"es Santos Domingo\")\n",
        "    elif p == \"granada\":\n",
        "        print(\"la capital de\", p, \"es St.George\")\n",
        "    elif p == \"haiti\":\n",
        "        print(\"la capital de\", p, \"es Puerto Principe\")\n",
        "    elif p == \"jamaica\":\n",
        "        print(\"la capital de\", p, \"es Kingston\")\n",
        "    elif p == \"mexico\" or p == \"méxico\":\n",
        "        print(\"la capital de\", p, \"es Ciudad de México\")\n",
        "    elif p == \"san cristobal y nieves\" or p == \"san cristóbal y nieves\":\n",
        "        print(\"la capital de\", p, \"es Basseterre\")\n",
        "    elif p == \"santa lucia\" or p == \"santa lucía\":\n",
        "        print(\"la capital de\", p, \"es Castries\")\n",
        "    elif p == \"san vicente y las granadinas\":\n",
        "        print(\"la capital de\", p, \"es Kingstown\")\n",
        "    elif p == \"guyana\":\n",
        "        print(\"la capital de\", p, \"es Georgetown\")\n",
        "    elif p == \"trinidad y tobago\":\n",
        "        print(\"la capital de\", p, \"es Puerto España\")\n",
        "    elif p == \"belice\":\n",
        "        print(\"la capital de\", p, \"es Belmopán\")\n",
        "    elif p == \"costa rica\":\n",
        "        print(\"la capital de\", p, \"es San José\")\n",
        "    elif p == \"el salvador\":\n",
        "        print(\"la capital de\", p, \"San Salvador\")\n",
        "    elif p == \"guatemala\":\n",
        "        print(\"la capital de\", p, \"Ciudad de Guatemala\")\n",
        "    elif p == \"honduras\":\n",
        "        print(\"la capital de\", p, \"es Tegucigalpa\")\n",
        "    elif p == \"nicaragua\":\n",
        "        print(\"la capital de\", p, \"es Managua\")\n",
        "    elif p == \"panama\" or p == \"panamá\":\n",
        "        print(\"la capital de\", p, \"es St.John's\")\n",
        "    elif p == \"argentina\":\n",
        "        print(\"la capital de\", p, \"es Buenos Aires\")\n",
        "    elif p == \"bolivia\":\n",
        "        print(\"la capital de\", p, \"es Sucre\")\n",
        "    elif p == \"brasil\":\n",
        "        print(\"la capital de\", p, \"es Brasilia\")\n",
        "    elif p == \"colombia\":\n",
        "        print(\"la capital de\", p, \"es Bogotá\")\n",
        "    elif p == \"ecuador\":\n",
        "        print(\"la capital de\", p, \"es Quito\")\n",
        "    elif p == \"paraguay\":\n",
        "        print(\"la capital de\", p, \"es Asunción\")\n",
        "    elif p == \"peru\" or p == \"perú\":\n",
        "        print(\"la capital de\", p, \"es Lima\")\n",
        "    elif p == \"surinam\":\n",
        "        print(\"la capital de\", p, \"es Parabarimo\")\n",
        "    elif p == \"uruguay\":\n",
        "        print(\"la capital de\", p, \"es Montevideo\")\n",
        "    elif p == \"venezuela\":\n",
        "        print(\"la capital de\", p, \"es Caracas\")\n",
        "    else:\n",
        "        print(\"pais no identificado\")\n",
        "else:\n",
        "    print(p, \"está en mayuscula, acuerdate que tienes que ingresas caracteres en minuscula\")"
      ]
    }
  ],
  "metadata": {
    "kernelspec": {
      "display_name": "Python 3",
      "language": "python",
      "name": "python3"
    },
    "language_info": {
      "codemirror_mode": {
        "name": "ipython",
        "version": 3
      },
      "file_extension": ".py",
      "mimetype": "text/x-python",
      "name": "python",
      "nbconvert_exporter": "python",
      "pygments_lexer": "ipython3",
      "version": "3.11.4"
    },
    "orig_nbformat": 4,
    "colab": {
      "provenance": [],
      "include_colab_link": true
    }
  },
  "nbformat": 4,
  "nbformat_minor": 0
}